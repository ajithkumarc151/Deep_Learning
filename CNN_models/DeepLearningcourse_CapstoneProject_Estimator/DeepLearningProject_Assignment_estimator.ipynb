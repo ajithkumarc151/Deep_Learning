{
  "nbformat": 4,
  "nbformat_minor": 0,
  "metadata": {
    "colab": {
      "name": "DeepLearningProject - Assignment.ipynb",
      "version": "0.3.2",
      "provenance": [],
      "collapsed_sections": [],
      "toc_visible": true
    },
    "kernelspec": {
      "display_name": "Python 3",
      "language": "python",
      "name": "python3"
    }
  },
  "cells": [
    {
      "metadata": {
        "id": "Mb9YuBUQ53oo",
        "colab_type": "text"
      },
      "cell_type": "markdown",
      "source": [
        "# Deep Learning Project: Pet Classifier using CNN\n",
        "\n",
        "Prepration\n",
        "- Extract the ipynb file and the data in the same folder\n",
        "\n",
        "Data Set\n",
        "- A production grade program as 10,000 training images\n",
        "- This is a small program with 20 images of cats and 20 images of dogs. \n",
        "- The evaluation set has 10 images of cats and 10 images of dogs\n",
        "\n",
        "Runs\n",
        "- The student is expected to run the 100-300 training step\n",
        "- A production grade code would have about 20k-50k training steps"
      ]
    },
    {
      "metadata": {
        "id": "_u5b8En-53op",
        "colab_type": "text"
      },
      "cell_type": "markdown",
      "source": [
        "### Import modules"
      ]
    },
    {
      "metadata": {
        "id": "iZ76UFvE53oq",
        "colab_type": "code",
        "outputId": "eaed230a-9352-4b60-f489-d93ee1e99d37",
        "colab": {
          "base_uri": "https://localhost:8080/",
          "height": 72
        }
      },
      "cell_type": "code",
      "source": [
        "from __future__ import absolute_import\n",
        "from __future__ import division\n",
        "from __future__ import print_function\n",
        "import os\n",
        "import cv2\n",
        "import glob\n",
        "import matplotlib.pyplot as plt\n",
        "import numpy as np\n",
        "import tensorflow as tf\n",
        "import random\n",
        "import sys\n",
        "\n",
        "# To support both python 2 and python 3\n",
        "from __future__ import division, print_function, unicode_literals\n",
        "\n",
        "# to make this notebook's output stable across runs\n",
        "print(tf.__version__)\n",
        "def reset_graph(seed=42):\n",
        "    tf.reset_default_graph()\n",
        "    tf.set_random_seed(seed)\n",
        "    np.random.seed(seed)\n",
        "    \n",
        "from google.colab import drive\n",
        "drive.mount('/content/gdrive')"
      ],
      "execution_count": 11,
      "outputs": [
        {
          "output_type": "stream",
          "text": [
            "1.13.1\n",
            "Drive already mounted at /content/gdrive; to attempt to forcibly remount, call drive.mount(\"/content/gdrive\", force_remount=True).\n"
          ],
          "name": "stdout"
        }
      ]
    },
    {
      "metadata": {
        "id": "UTTL81he53ot",
        "colab_type": "text"
      },
      "cell_type": "markdown",
      "source": [
        "### Set hyper parameters\n",
        "- Run the program with three num_steps : 100,200,300"
      ]
    },
    {
      "metadata": {
        "id": "Ci5-ru7xkgjN",
        "colab_type": "code",
        "colab": {}
      },
      "cell_type": "code",
      "source": [
        ""
      ],
      "execution_count": 0,
      "outputs": []
    },
    {
      "metadata": {
        "id": "moFXWEgU53ou",
        "colab_type": "code",
        "colab": {}
      },
      "cell_type": "code",
      "source": [
        "reset_graph()\n",
        "\n",
        "img_size = 32\n",
        "num_channels = 3\n",
        "img_size_flat = img_size * img_size * num_channels\n",
        "img_shape = (img_size, img_size)\n",
        "trainpath='gdrive/My Drive/data/train'\n",
        "testpath='gdrive/My Drive/data/test'\n",
        "labels = {'cats': 0, 'dogs': 1}\n",
        "fc_size=32 #size of the output of final FC layer\n",
        "num_steps=300 #Try 100, 200, 300. number of steps that training data should be looped. Usually 20K\n",
        "tf.logging.set_verbosity(tf.logging.INFO)"
      ],
      "execution_count": 0,
      "outputs": []
    },
    {
      "metadata": {
        "id": "0cL-f3Wd53ow",
        "colab_type": "text"
      },
      "cell_type": "markdown",
      "source": [
        "### Read the image dataset"
      ]
    },
    {
      "metadata": {
        "id": "HKWIrGPZ53ow",
        "colab_type": "code",
        "outputId": "1a626ac8-7771-4f5b-832a-6a7e8ce748f9",
        "colab": {
          "base_uri": "https://localhost:8080/",
          "height": 252
        }
      },
      "cell_type": "code",
      "source": [
        "def read_images_classes(basepath,imgSize=img_size):\n",
        "    image_stack = []\n",
        "    label_stack = []\n",
        "\n",
        "    for counter, l in enumerate(labels):\n",
        "        path = os.path.join(basepath, l,'*g')\n",
        "        for img in glob.glob(path):\n",
        "            one_hot_vector =np.zeros(len(labels),dtype=np.int16)\n",
        "            one_hot_vector[counter]=1\n",
        "            image = cv2.imread(img)\n",
        "            im_resize = cv2.resize(image,img_shape, interpolation=cv2.INTER_CUBIC)\n",
        "            image_stack.append(im_resize)\n",
        "            label_stack.append(labels[l])            \n",
        "    return np.array(image_stack), np.array(label_stack)\n",
        "\n",
        "X_train, y_train=read_images_classes(trainpath)\n",
        "X_test, y_test=read_images_classes(testpath)\n",
        "\n",
        "#test a sample image\n",
        "print('length of train image set',len(X_train))\n",
        "print('X_data shape:', X_train.shape)\n",
        "print('y_data shape:', y_train.shape)\n",
        "\n",
        "fig1 = plt.figure() \n",
        "ax1 = fig1.add_subplot(2,2,1) \n",
        "img = cv2.resize(X_train[0],(64,64), interpolation=cv2.INTER_CUBIC)\n",
        "ax1.imshow(cv2.cvtColor(img, cv2.COLOR_BGR2RGB))\n",
        "plt.title(y_train[0])\n",
        "plt.show()"
      ],
      "execution_count": 13,
      "outputs": [
        {
          "output_type": "stream",
          "text": [
            "length of train image set 40\n",
            "X_data shape: (40, 32, 32, 3)\n",
            "y_data shape: (40,)\n"
          ],
          "name": "stdout"
        },
        {
          "output_type": "display_data",
          "data": {
            "image/png": "[encoded data removed]",
            "text/plain": [
              "<Figure size 576x396 with 1 Axes>"
            ]
          },
          "metadata": {
            "tags": []
          }
        }
      ]
    },
    {
      "metadata": {
        "id": "DJjKGj8S53o2",
        "colab_type": "text"
      },
      "cell_type": "markdown",
      "source": [
        "### Assignment: Define the tensorflow model\n",
        "\n",
        "The model should have the following layers\n",
        "- input later\n",
        "- conv layer 1 with 32 filters of kernel  size[5,5],\n",
        "- pooling layer 1 with pool size[2,2] and stride 2\n",
        "- conv layer 2 with 64 filters of kernel  size[5,5],\n",
        "- pooling layer 2 with pool size[2,2] and stride 2\n",
        "- dense layer whose output size is fixed in the hyper parameter: fc_size=32\n",
        "- drop out layer with droput probability 0.4\n",
        "- predict the class by doing a softmax on the output of the dropout layers\n",
        "\n",
        "Training\n",
        "- For training fefine the loss function and minimize it\n",
        "- For evaluation calculate the accuracy\n",
        "\n",
        "Reading Material\n",
        "- For ideas look at tensorflow layers tutorial"
      ]
    },
    {
      "metadata": {
        "id": "-TMY5wX453o3",
        "colab_type": "text"
      },
      "cell_type": "markdown",
      "source": [
        "### The cnn_model_fn has to be defined here by the student"
      ]
    },
    {
      "metadata": {
        "id": "wmX0iu5853o3",
        "colab_type": "code",
        "colab": {}
      },
      "cell_type": "code",
      "source": [
        "def cnn_model_fn(features, labels, mode):\n",
        "\n",
        "    tf.random.set_random_seed(42)  \n",
        "  # Input Layer\n",
        "  # Reshape X to 4-D tensor: [batch_size, width, height, channels]\n",
        "  #the given images are 32*32 pixels, and have 3  channel\n",
        "    x = features['x']\n",
        "    \n",
        "    input_layer =  tf.reshape(x,[-1,img_size, img_size, num_channels])\n",
        "\n",
        "  # Convolutional Layer #1\n",
        "  # Computes 32 features using a 5x5 filter with ReLU activation.\n",
        "  # Padding is added to preserve width and height.\n",
        "  # Input Tensor Shape: [batch_size, 32, 32, 3]\n",
        "  # Output Tensor Shape: [batch_size, 32, 32, 32]\n",
        "    c1 = tf.layers.conv2d(inputs=input_layer, activation=tf.nn.relu, filters=32,\n",
        "                          kernel_size=[5,5], padding='VALID', strides=1, name=\"layer_conv1\")\n",
        "    \n",
        "   # Pooling Layer #1\n",
        "  # First max pooling layer with a 2x2 filter and stride of 2\n",
        "  # Input Tensor Shape: [batch_size, 32, 32, 32]\n",
        "  # Output Tensor Shape: [batch_size, 16, 16, 32]\n",
        "    p1 = tf.layers.max_pooling2d(inputs=c1, pool_size=[2,2], strides=2)\n",
        "    \n",
        "    \n",
        "  # Convolutional Layer #2\n",
        "  # Computes 64 features using a 5x5 filter.\n",
        "  # Padding is added to preserve width and height.\n",
        "  # Input Tensor Shape: [batch_size, 16, 16, 32]\n",
        "  # Output Tensor Shape: [batch_size, 16, 16, 64]\n",
        "    c2 = tf.layers.conv2d(inputs=p1, activation=tf.nn.relu, filters=64,\n",
        "                          kernel_size=[5,5], padding='VALID', strides=1, name=\"layer_conv2\")\n",
        "    \n",
        "  # Pooling Layer #2\n",
        "  # Second max pooling layer with a 2x2 filter and stride of 2\n",
        "  # Input Tensor Shape: [batch_size, 16, 16, 64]\n",
        "  # Output Tensor Shape: [batch_size, 5, 5, 64]\n",
        "    p2 = tf.layers.max_pooling2d(inputs=c2, pool_size=[2,2], strides=2)\n",
        "\n",
        "  # Flatten tensor into a batch of vectors\n",
        "  # Input Tensor Shape: [batch_size, 5, 5, 64]\n",
        "  # Output Tensor Shape: [batch_size, 5 * 5 * 64]\n",
        "    p2_flat = tf.reshape(p2, [-1, 5 * 5 * 64])\n",
        "    #p2_flat = tf.contrib.layers.flatten(p2)\n",
        "\n",
        "  # Dense Layer\n",
        "  # Densely connected layer with 1024 neurons\n",
        "  # Input Tensor Shape: [batch_size, 5 * 5 * 64]\n",
        "  # Output Tensor Shape: [batch_size, 1024]\n",
        "    fc1 = tf.layers.dense(\n",
        "        inputs=p2_flat, units=1024, activation=tf.nn.relu, name = \"layer_fc1\")\n",
        "    \n",
        "    # Add dropout operation; 0.4 probability that element will be kept\n",
        "    dropout = tf.layers.dropout(\n",
        "      inputs=fc1, rate=0.4, training=mode == tf.estimator.ModeKeys.TRAIN)\n",
        "\n",
        "    # Logits layer\n",
        "    # Input Tensor Shape: [batch_size, 1024]\n",
        "    # Output Tensor Shape: [batch_size, 32]\n",
        "    logits = tf.layers.dense(inputs = fc1, units=32, name = \"layer_fc2\")\n",
        "    \n",
        "    predictions = {\n",
        "      # Generate predictions (for PREDICT and EVAL mode)\n",
        "      \"classes\": tf.argmax(input=logits, axis=1),\n",
        "      # Add `softmax_tensor` to the graph. It is used for PREDICT and by the\n",
        "      # `logging_hook`.\n",
        "      \"probabilities\": tf.nn.softmax(logits, name=\"softmax_tensor\")\n",
        "  }\n",
        "\n",
        "    if mode == tf.estimator.ModeKeys.PREDICT:\n",
        "        return tf.estimator.EstimatorSpec(mode=mode, predictions=predictions)\n",
        "\n",
        "    # Calculate Loss (for both TRAIN and EVAL modes)\n",
        "    loss = tf.losses.sparse_softmax_cross_entropy(labels=labels, logits=logits)\n",
        "\n",
        "  # Configure the Training Op (for TRAIN mode)\n",
        "    if mode == tf.estimator.ModeKeys.TRAIN:\n",
        "        optimizer = tf.train.AdamOptimizer(learning_rate=0.0001)\n",
        "        train_op = optimizer.minimize(\n",
        "          loss=loss,\n",
        "          global_step=tf.train.get_global_step())\n",
        "        return tf.estimator.EstimatorSpec(mode=mode, loss=loss, train_op=train_op)\n",
        "\n",
        "  # Add evaluation metrics (for EVAL mode)\n",
        "    eval_metric_ops = {\n",
        "        \"accuracy\": tf.metrics.accuracy(\n",
        "            labels=labels, predictions=predictions[\"classes\"])\n",
        "    }\n",
        "    return tf.estimator.EstimatorSpec(\n",
        "      mode=mode, loss=loss, eval_metric_ops=eval_metric_ops)     \n",
        "      "
      ],
      "execution_count": 0,
      "outputs": []
    },
    {
      "metadata": {
        "id": "j2uTVWdj53o5",
        "colab_type": "text"
      },
      "cell_type": "markdown",
      "source": [
        "### Run the tensorflow model\n",
        "\n",
        "This section will use the model defined by the student and run the training and evaluation step"
      ]
    },
    {
      "metadata": {
        "id": "VbybPuOx53o6",
        "colab_type": "code",
        "outputId": "00846303-7901-4d87-f92a-90a6754293c7",
        "colab": {
          "base_uri": "https://localhost:8080/",
          "height": 1410
        }
      },
      "cell_type": "code",
      "source": [
        "#X_train = np.array((X_train/255.0),dtype=np.float16)\n",
        "#X_test = np.array((X_test/255.0), dtype=np.float16)\n",
        "\n",
        "X_train = np.array((X_train/255.0),dtype=np.float32)\n",
        "X_test = np.array((X_test/255.0), dtype=np.float32)\n",
        "\n",
        "# X_train = np.array((X_train/255.0),dtype=np.float64)\n",
        "# X_test = np.array((X_test/255.0), dtype=np.float64)\n",
        "\n",
        "pets_classifier = tf.estimator.Estimator(model_fn=cnn_model_fn, model_dir=\"gdrive/My Drive/data/train/tmp/pets_convnet_model\")\n",
        "#pets_classifier = tf.estimator.Estimator(model_fn=cnn_model_fn)\n",
        "# Set up logging for predictions\n",
        "# Log the values in the \"Softmax\" tensor with label \"probabilities\"\n",
        "\n",
        "tensors_to_log = {\"probabilities\": \"softmax_tensor\"}\n",
        "logging_hook = tf.train.LoggingTensorHook(tensors=tensors_to_log, every_n_iter=50)\n",
        "train_input_fn = tf.estimator.inputs.numpy_input_fn(x={\"x\": X_train}, y=y_train, batch_size=100,\n",
        "                                                      num_epochs=None, shuffle=True)\n",
        "#num_steps=[100,200,300]\n",
        "\n",
        "pets_classifier.train(input_fn=train_input_fn, steps=300, hooks=[logging_hook])\n",
        "eval_input_fn = tf.estimator.inputs.numpy_input_fn(x={\"x\": X_test}, y=y_test, num_epochs=1,shuffle=False)\n",
        "eval_results = pets_classifier.evaluate(input_fn=eval_input_fn)\n",
        "print(eval_results)"
      ],
      "execution_count": 15,
      "outputs": [
        {
          "output_type": "stream",
          "text": [
            "INFO:tensorflow:Using default config.\n",
            "INFO:tensorflow:Using config: {'_model_dir': 'gdrive/My Drive/data/train/tmp/pets_convnet_model', '_tf_random_seed': None, '_save_summary_steps': 100, '_save_checkpoints_steps': None, '_save_checkpoints_secs': 600, '_session_config': allow_soft_placement: true\n",
            "graph_options {\n",
            "  rewrite_options {\n",
            "    meta_optimizer_iterations: ONE\n",
            "  }\n",
            "}\n",
            ", '_keep_checkpoint_max': 5, '_keep_checkpoint_every_n_hours': 10000, '_log_step_count_steps': 100, '_train_distribute': None, '_device_fn': None, '_protocol': None, '_eval_distribute': None, '_experimental_distribute': None, '_service': None, '_cluster_spec': <tensorflow.python.training.server_lib.ClusterSpec object at 0x7fee1d7fc940>, '_task_type': 'worker', '_task_id': 0, '_global_id_in_cluster': 0, '_master': '', '_evaluation_master': '', '_is_chief': True, '_num_ps_replicas': 0, '_num_worker_replicas': 1}\n",
            "INFO:tensorflow:Calling model_fn.\n",
            "INFO:tensorflow:Done calling model_fn.\n",
            "INFO:tensorflow:Create CheckpointSaverHook.\n",
            "INFO:tensorflow:Graph was finalized.\n",
            "INFO:tensorflow:Running local_init_op.\n",
            "INFO:tensorflow:Done running local_init_op.\n",
            "WARNING:tensorflow:From /usr/local/lib/python3.6/dist-packages/tensorflow/python/training/monitored_session.py:809: start_queue_runners (from tensorflow.python.training.queue_runner_impl) is deprecated and will be removed in a future version.\n",
            "Instructions for updating:\n",
            "To construct input pipelines, use the `tf.data` module.\n",
            "INFO:tensorflow:Saving checkpoints for 0 into gdrive/My Drive/data/train/tmp/pets_convnet_model/model.ckpt.\n",
            "INFO:tensorflow:probabilities = [[0.03760299 0.02543021 0.03279328 ... 0.03405275 0.03068955 0.02578942]\n",
            " [0.03250572 0.02807244 0.03169501 ... 0.03273096 0.02912747 0.02703733]\n",
            " [0.03445126 0.02754067 0.03405284 ... 0.03008236 0.0291354  0.02849994]\n",
            " ...\n",
            " [0.03271832 0.02922692 0.03079751 ... 0.02776637 0.02998809 0.02670183]\n",
            " [0.03668413 0.0275433  0.0321317  ... 0.03096887 0.0310912  0.02718913]\n",
            " [0.03301607 0.0271937  0.0316227  ... 0.03106871 0.02896233 0.02766614]]\n",
            "INFO:tensorflow:loss = 3.4987938, step = 1\n",
            "INFO:tensorflow:probabilities = [[0.52307045 0.47689694 0.00000271 ... 0.00000086 0.00000115 0.00000036]\n",
            " [0.3703624  0.62963766 0.00000001 ... 0.         0.         0.        ]\n",
            " [0.24226277 0.7577354  0.00000019 ... 0.00000005 0.00000006 0.00000002]\n",
            " ...\n",
            " [0.3703624  0.62963766 0.00000001 ... 0.         0.         0.        ]\n",
            " [0.63052887 0.36946708 0.00000036 ... 0.0000001  0.00000016 0.00000004]\n",
            " [0.26649955 0.73346776 0.0000025  ... 0.00000098 0.0000013  0.00000039]] (11.368 sec)\n",
            "INFO:tensorflow:global_step/sec: 4.39987\n",
            "INFO:tensorflow:probabilities = [[0.4380463  0.5619366  0.00000123 ... 0.00000053 0.00000062 0.00000019]\n",
            " [0.5749345  0.4250628  0.0000002  ... 0.00000007 0.0000001  0.00000002]\n",
            " [0.13322055 0.866774   0.00000047 ... 0.00000013 0.00000018 0.00000004]\n",
            " ...\n",
            " [0.51733917 0.48265344 0.0000006  ... 0.00000018 0.00000037 0.00000007]\n",
            " [0.630445   0.36955503 0.         ... 0.         0.         0.        ]\n",
            " [0.2839562  0.7160388  0.0000004  ... 0.00000011 0.0000002  0.00000004]] (11.362 sec)\n",
            "INFO:tensorflow:loss = 0.35772926, step = 101 (22.731 sec)\n",
            "INFO:tensorflow:probabilities = [[0.8157243  0.18426801 0.0000006  ... 0.00000022 0.00000031 0.00000008]\n",
            " [0.9674521  0.03254789 0.         ... 0.         0.         0.        ]\n",
            " [0.05827064 0.94172937 0.         ... 0.         0.         0.        ]\n",
            " ...\n",
            " [0.25746408 0.7425357  0.00000002 ... 0.         0.00000001 0.        ]\n",
            " [0.9030983  0.09690174 0.         ... 0.         0.         0.        ]\n",
            " [0.08332723 0.91667247 0.00000003 ... 0.00000001 0.00000001 0.        ]] (11.447 sec)\n",
            "INFO:tensorflow:global_step/sec: 4.39168\n",
            "INFO:tensorflow:probabilities = [[0.07409596 0.92590404 0.         ... 0.         0.         0.        ]\n",
            " [0.01446493 0.985535   0.         ... 0.         0.         0.        ]\n",
            " [0.9379552  0.06204482 0.         ... 0.         0.         0.        ]\n",
            " ...\n",
            " [0.10294936 0.89705056 0.         ... 0.         0.         0.        ]\n",
            " [0.91397583 0.08602339 0.00000007 ... 0.00000002 0.00000004 0.00000001]\n",
            " [0.9898956  0.01010443 0.         ... 0.         0.         0.        ]] (11.323 sec)\n",
            "INFO:tensorflow:loss = 0.053695664, step = 201 (22.768 sec)\n",
            "INFO:tensorflow:probabilities = [[0.97161746 0.02838249 0.         ... 0.         0.         0.        ]\n",
            " [0.02444102 0.97555894 0.00000001 ... 0.         0.         0.        ]\n",
            " [0.01915587 0.9808442  0.         ... 0.         0.         0.        ]\n",
            " ...\n",
            " [0.00872083 0.9912792  0.         ... 0.         0.         0.        ]\n",
            " [0.9859583  0.01404175 0.         ... 0.         0.         0.        ]\n",
            " [0.01042001 0.98958    0.         ... 0.         0.         0.        ]] (11.272 sec)\n",
            "INFO:tensorflow:Saving checkpoints for 300 into gdrive/My Drive/data/train/tmp/pets_convnet_model/model.ckpt.\n",
            "INFO:tensorflow:Loss for final step: 0.011291845.\n",
            "INFO:tensorflow:Calling model_fn.\n",
            "INFO:tensorflow:Done calling model_fn.\n",
            "INFO:tensorflow:Starting evaluation at 2019-03-31T11:01:56Z\n",
            "INFO:tensorflow:Graph was finalized.\n",
            "INFO:tensorflow:Restoring parameters from gdrive/My Drive/data/train/tmp/pets_convnet_model/model.ckpt-300\n",
            "INFO:tensorflow:Running local_init_op.\n",
            "INFO:tensorflow:Done running local_init_op.\n",
            "INFO:tensorflow:Finished evaluation at 2019-03-31-11:01:56\n",
            "INFO:tensorflow:Saving dict for global step 300: accuracy = 0.7, global_step = 300, loss = 0.96549714\n",
            "INFO:tensorflow:Saving 'checkpoint_path' summary for global step 300: gdrive/My Drive/data/train/tmp/pets_convnet_model/model.ckpt-300\n",
            "{'accuracy': 0.7, 'loss': 0.96549714, 'global_step': 300}\n"
          ],
          "name": "stdout"
        }
      ]
    },
    {
      "metadata": {
        "id": "k8DIcWL353o8",
        "colab_type": "code",
        "colab": {}
      },
      "cell_type": "code",
      "source": [
        ""
      ],
      "execution_count": 0,
      "outputs": []
    }
  ]
}